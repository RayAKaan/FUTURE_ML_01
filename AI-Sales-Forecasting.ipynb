{
  "nbformat": 4,
  "nbformat_minor": 0,
  "metadata": {
    "colab": {
      "provenance": [],
      "gpuType": "V28",
      "authorship_tag": "ABX9TyPh0LZtzykHcxL3KOPW4fRR",
      "include_colab_link": true
    },
    "kernelspec": {
      "name": "python3",
      "display_name": "Python 3"
    },
    "language_info": {
      "name": "python"
    },
    "accelerator": "TPU"
  },
  "cells": [
    {
      "cell_type": "markdown",
      "metadata": {
        "id": "view-in-github",
        "colab_type": "text"
      },
      "source": [
        "<a href=\"https://colab.research.google.com/github/RayAKaan/FUTURE_ML_01/blob/main/AI-Sales-Forecasting.ipynb\" target=\"_parent\"><img src=\"https://colab.research.google.com/assets/colab-badge.svg\" alt=\"Open In Colab\"/></a>"
      ]
    },
    {
      "cell_type": "code",
      "execution_count": null,
      "metadata": {
        "colab": {
          "base_uri": "https://localhost:8080/"
        },
        "id": "DqbyzVhwMYnT",
        "outputId": "5e6a9a92-5c7c-4fee-c3af-d9ed70d3be9e",
        "collapsed": true
      },
      "outputs": [
        {
          "output_type": "stream",
          "name": "stdout",
          "text": [
            "Requirement already satisfied: xgboost in /usr/local/lib/python3.12/dist-packages (3.0.4)\n",
            "Requirement already satisfied: scikit-learn in /usr/local/lib/python3.12/dist-packages (1.6.1)\n",
            "Requirement already satisfied: pandas in /usr/local/lib/python3.12/dist-packages (2.2.2)\n",
            "Requirement already satisfied: numpy in /usr/local/lib/python3.12/dist-packages (2.0.2)\n",
            "Requirement already satisfied: matplotlib in /usr/local/lib/python3.12/dist-packages (3.10.0)\n",
            "Requirement already satisfied: seaborn in /usr/local/lib/python3.12/dist-packages (0.13.2)\n",
            "Requirement already satisfied: nvidia-nccl-cu12 in /usr/local/lib/python3.12/dist-packages (from xgboost) (2.27.3)\n",
            "Requirement already satisfied: scipy in /usr/local/lib/python3.12/dist-packages (from xgboost) (1.16.1)\n",
            "Requirement already satisfied: joblib>=1.2.0 in /usr/local/lib/python3.12/dist-packages (from scikit-learn) (1.5.2)\n",
            "Requirement already satisfied: threadpoolctl>=3.1.0 in /usr/local/lib/python3.12/dist-packages (from scikit-learn) (3.6.0)\n",
            "Requirement already satisfied: python-dateutil>=2.8.2 in /usr/local/lib/python3.12/dist-packages (from pandas) (2.9.0.post0)\n",
            "Requirement already satisfied: pytz>=2020.1 in /usr/local/lib/python3.12/dist-packages (from pandas) (2025.2)\n",
            "Requirement already satisfied: tzdata>=2022.7 in /usr/local/lib/python3.12/dist-packages (from pandas) (2025.2)\n",
            "Requirement already satisfied: contourpy>=1.0.1 in /usr/local/lib/python3.12/dist-packages (from matplotlib) (1.3.3)\n",
            "Requirement already satisfied: cycler>=0.10 in /usr/local/lib/python3.12/dist-packages (from matplotlib) (0.12.1)\n",
            "Requirement already satisfied: fonttools>=4.22.0 in /usr/local/lib/python3.12/dist-packages (from matplotlib) (4.59.2)\n",
            "Requirement already satisfied: kiwisolver>=1.3.1 in /usr/local/lib/python3.12/dist-packages (from matplotlib) (1.4.9)\n",
            "Requirement already satisfied: packaging>=20.0 in /usr/local/lib/python3.12/dist-packages (from matplotlib) (25.0)\n",
            "Requirement already satisfied: pillow>=8 in /usr/local/lib/python3.12/dist-packages (from matplotlib) (11.3.0)\n",
            "Requirement already satisfied: pyparsing>=2.3.1 in /usr/local/lib/python3.12/dist-packages (from matplotlib) (3.2.3)\n",
            "Requirement already satisfied: six>=1.5 in /usr/local/lib/python3.12/dist-packages (from python-dateutil>=2.8.2->pandas) (1.17.0)\n"
          ]
        }
      ],
      "source": [
        "!pip install xgboost scikit-learn pandas numpy matplotlib seaborn\n",
        "\n",
        "import pandas as pd\n",
        "import numpy as np\n",
        "import matplotlib.pyplot as plt\n",
        "import seaborn as sns\n",
        "import xgboost as xgb\n",
        "from sklearn.metrics import mean_absolute_error, mean_squared_error\n",
        "from sklearn.model_selection import train_test_split\n",
        "from sklearn.preprocessing import LabelEncoder\n",
        "from xgboost import XGBRegressor"
      ]
    },
    {
      "cell_type": "code",
      "source": [
        "# Load datasets\n",
        "train = pd.read_csv(\"train.csv\")\n",
        "test = pd.read_csv(\"test.csv\")\n",
        "store = pd.read_csv(\"store.csv\")\n",
        "\n",
        "print(\"Train shape:\", train.shape)\n",
        "print(\"Test shape:\", test.shape)\n",
        "print(\"Store shape:\", store.shape)\n",
        "\n",
        "# Merge store info\n",
        "train = train.merge(store, on=\"Store\", how=\"left\")\n",
        "test = test.merge(store, on=\"Store\", how=\"left\")\n"
      ],
      "metadata": {
        "colab": {
          "base_uri": "https://localhost:8080/"
        },
        "id": "LY9Y0SpuRTJJ",
        "outputId": "b50ddbce-7ccd-430e-e599-bac9b7e69194"
      },
      "execution_count": null,
      "outputs": [
        {
          "output_type": "stream",
          "name": "stderr",
          "text": [
            "/tmp/ipython-input-3605720481.py:2: DtypeWarning: Columns (7) have mixed types. Specify dtype option on import or set low_memory=False.\n",
            "  train = pd.read_csv(\"train.csv\")\n"
          ]
        },
        {
          "output_type": "stream",
          "name": "stdout",
          "text": [
            "Train shape: (1017209, 9)\n",
            "Test shape: (41088, 8)\n",
            "Store shape: (1115, 10)\n"
          ]
        }
      ]
    },
    {
      "cell_type": "code",
      "source": [
        "# ---------------------------\n",
        "# 1. Feature engineering\n",
        "# ---------------------------\n",
        "for df in [train, test]:\n",
        "    df['Date'] = pd.to_datetime(df['Date'])\n",
        "    df['Year'] = df['Date'].dt.year\n",
        "    df['Month'] = df['Date'].dt.month\n",
        "    df['Day'] = df['Date'].dt.day\n",
        "    df['WeekOfYear'] = df['Date'].dt.isocalendar().week\n",
        "    df['DayOfWeek'] = df['Date'].dt.dayofweek\n",
        "    df['IsWeekend'] = df['DayOfWeek'].isin([5,6]).astype(int)\n",
        "    df['IsHoliday'] = df['SchoolHoliday'] | (df['StateHoliday'] != '0')\n",
        "\n",
        "    df['CompetitionOpenSinceYear'] = df['CompetitionOpenSinceYear'].fillna(df['Year'])\n",
        "    df['CompetitionOpenSinceMonth'] = df['CompetitionOpenSinceMonth'].fillna(df['Month'])\n",
        "    df['Promo2SinceYear'] = df['Promo2SinceYear'].fillna(0)\n",
        "    df['Promo2SinceWeek'] = df['Promo2SinceWeek'].fillna(0)\n",
        "\n",
        "    df['CompetitionOpen'] = ((df['Year'] > df['CompetitionOpenSinceYear']) |\n",
        "                             ((df['Year'] == df['CompetitionOpenSinceYear']) &\n",
        "                              (df['Month'] >= df['CompetitionOpenSinceMonth']))).astype(int)\n",
        "\n",
        "    df['Promo2Active'] = ((df['Promo2'] == 1) &\n",
        "                          (df['Year'] >= df['Promo2SinceYear']) &\n",
        "                          (df['WeekOfYear'] >= df['Promo2SinceWeek'])).astype(int)\n",
        "\n",
        "train.fillna(0, inplace=True)\n",
        "test.fillna(0, inplace=True)\n",
        "\n",
        "# ---------------------------\n",
        "# 2. Prepare features\n",
        "# ---------------------------\n",
        "features = [\n",
        "    \"Store\", \"DayOfWeek\", \"Promo\", \"SchoolHoliday\", \"StateHoliday\",\n",
        "    \"Year\", \"Month\", \"Day\", \"WeekOfYear\", \"IsWeekend\",\n",
        "    \"StoreType\", \"Assortment\", \"CompetitionDistance\", \"CompetitionOpen\",\n",
        "    \"Promo2Active\"\n",
        "]\n",
        "\n",
        "categorical_cols = [\"StateHoliday\", \"StoreType\", \"Assortment\"]\n",
        "\n",
        "X = train[features].copy()\n",
        "y = train[\"Sales\"]\n",
        "X_test = test[features].copy()\n",
        "\n",
        "# Label encode categorical columns\n",
        "for col in categorical_cols:\n",
        "    le = LabelEncoder()\n",
        "    X[col] = le.fit_transform(X[col].astype(str)).astype(int)\n",
        "    X_test[col] = le.transform(X_test[col].astype(str)).astype(int)\n",
        "\n",
        "# ---------------------------\n",
        "# 3. Train XGBoost\n",
        "# ---------------------------\n",
        "dtrain = xgb.DMatrix(X.values, label=y.values)\n",
        "dtest = xgb.DMatrix(X_test.values)\n",
        "\n",
        "params = {\n",
        "    \"objective\": \"reg:squarederror\",\n",
        "    \"eval_metric\": \"rmse\",\n",
        "    \"eta\": 0.03,\n",
        "    \"max_depth\": 8,\n",
        "    \"subsample\": 0.85,\n",
        "    \"colsample_bytree\": 0.85,\n",
        "    \"min_child_weight\": 3,\n",
        "    \"gamma\": 1,\n",
        "    \"lambda\": 2,\n",
        "    \"seed\": 42\n",
        "}\n",
        "\n",
        "model = xgb.train(params, dtrain, num_boost_round=1000, verbose_eval=50)\n",
        "\n",
        "# ---------------------------\n",
        "# 4. Predict on test set\n",
        "# ---------------------------\n",
        "test_preds = model.predict(dtest)\n",
        "\n",
        "# ---------------------------\n",
        "# 5. Create minimal Power BI CSV\n",
        "# ---------------------------\n",
        "powerbi_cols = [\n",
        "    \"Id\", \"Store\", \"Date\", \"DayOfWeek\", \"IsWeekend\",\n",
        "    \"IsHoliday\", \"Promo\", \"CompetitionDistance\", \"Promo2Active\"\n",
        "]\n",
        "\n",
        "powerbi_df = test[powerbi_cols].copy()\n",
        "powerbi_df[\"PredictedSales\"] = test_preds\n",
        "\n",
        "powerbi_df.to_csv(\"sales_predictions_powerbi_minimal.csv\", index=False)\n",
        "print(\"✅ Minimal Power BI CSV saved as sales_predictions_powerbi_minimal.csv\")\n"
      ],
      "metadata": {
        "colab": {
          "base_uri": "https://localhost:8080/"
        },
        "id": "UDWbPgQtRYBx",
        "outputId": "5dc578de-700a-403b-9bd6-80076a07bd2a"
      },
      "execution_count": null,
      "outputs": [
        {
          "output_type": "stream",
          "name": "stdout",
          "text": [
            "✅ Minimal Power BI CSV saved as sales_predictions_powerbi_minimal.csv\n"
          ]
        }
      ]
    },
    {
      "cell_type": "code",
      "source": [
        "from sklearn.metrics import mean_squared_error\n",
        "import numpy as np\n",
        "import xgboost as xgb\n",
        "\n",
        "# Convert training data to DMatrix\n",
        "dtrain_full = xgb.DMatrix(X.values, label=y.values)\n",
        "\n",
        "# Predict on the training set\n",
        "train_preds = model.predict(dtrain_full)\n",
        "\n",
        "# Calculate RMSE\n",
        "train_rmse = np.sqrt(mean_squared_error(y, train_preds))\n",
        "print(f\"✅ Train RMSE: {train_rmse:.2f}\")\n"
      ],
      "metadata": {
        "colab": {
          "base_uri": "https://localhost:8080/"
        },
        "id": "aXUAu-9tSgrV",
        "outputId": "79f3e45a-9424-4fb3-8367-127443ff08a6"
      },
      "execution_count": null,
      "outputs": [
        {
          "output_type": "stream",
          "name": "stdout",
          "text": [
            "✅ Train RMSE: 1006.03\n"
          ]
        }
      ]
    },
    {
      "cell_type": "code",
      "source": [
        "from google.colab import files\n",
        "\n",
        "files.download(\"sales_predictions_powerbi_minimal.csv\")\n"
      ],
      "metadata": {
        "colab": {
          "base_uri": "https://localhost:8080/",
          "height": 17
        },
        "id": "fQLW0j69bn0O",
        "outputId": "7456b157-02b5-4cfb-b004-50bd03f5b570"
      },
      "execution_count": null,
      "outputs": [
        {
          "output_type": "display_data",
          "data": {
            "text/plain": [
              "<IPython.core.display.Javascript object>"
            ],
            "application/javascript": [
              "\n",
              "    async function download(id, filename, size) {\n",
              "      if (!google.colab.kernel.accessAllowed) {\n",
              "        return;\n",
              "      }\n",
              "      const div = document.createElement('div');\n",
              "      const label = document.createElement('label');\n",
              "      label.textContent = `Downloading \"${filename}\": `;\n",
              "      div.appendChild(label);\n",
              "      const progress = document.createElement('progress');\n",
              "      progress.max = size;\n",
              "      div.appendChild(progress);\n",
              "      document.body.appendChild(div);\n",
              "\n",
              "      const buffers = [];\n",
              "      let downloaded = 0;\n",
              "\n",
              "      const channel = await google.colab.kernel.comms.open(id);\n",
              "      // Send a message to notify the kernel that we're ready.\n",
              "      channel.send({})\n",
              "\n",
              "      for await (const message of channel.messages) {\n",
              "        // Send a message to notify the kernel that we're ready.\n",
              "        channel.send({})\n",
              "        if (message.buffers) {\n",
              "          for (const buffer of message.buffers) {\n",
              "            buffers.push(buffer);\n",
              "            downloaded += buffer.byteLength;\n",
              "            progress.value = downloaded;\n",
              "          }\n",
              "        }\n",
              "      }\n",
              "      const blob = new Blob(buffers, {type: 'application/binary'});\n",
              "      const a = document.createElement('a');\n",
              "      a.href = window.URL.createObjectURL(blob);\n",
              "      a.download = filename;\n",
              "      div.appendChild(a);\n",
              "      a.click();\n",
              "      div.remove();\n",
              "    }\n",
              "  "
            ]
          },
          "metadata": {}
        },
        {
          "output_type": "display_data",
          "data": {
            "text/plain": [
              "<IPython.core.display.Javascript object>"
            ],
            "application/javascript": [
              "download(\"download_ff8eac91-fcc3-4d76-a7d4-af2e8f55a083\", \"sales_predictions_powerbi_minimal.csv\", 2081005)"
            ]
          },
          "metadata": {}
        }
      ]
    }
  ]
}